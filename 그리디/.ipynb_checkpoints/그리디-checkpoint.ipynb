{
 "cells": [
  {
   "cell_type": "markdown",
   "metadata": {},
   "source": [
    "# 그리디\n",
    "==탐욕법, 단순하게 푼다.\n",
    "현재 상황에서 가장 좋아보이는 것만을 선택하는 알고리즘.\n",
    "현재 상황에서 가장 좋아 보이는 것만을 선택하기 때문에, 정확한 답을 도출하지 못하더라도 그럴싸한 답을 도축하는 데에 도움이 된다. "
   ]
  },
  {
   "cell_type": "markdown",
   "metadata": {},
   "source": [
    "## 거스름돈\n",
    "당신은 음식점의 계산을 도와주는 점원이다. 카운터에서는 거스름돈으로 사용할 500원, 100원, 50원, 10원짜리 동전이 무한히 존재한다고 가정한다. 손님에게 거슬러 줘야 할 돈이 N원일 때 <u>거슬러 줘야 할 동전의 최소 개수</u>를 구하라. 단, 거슬러 줘야 할 돈 N은 항상 10의 배수이다. "
   ]
  },
  {
   "cell_type": "code",
   "execution_count": 3,
   "metadata": {},
   "outputs": [
    {
     "name": "stdout",
     "output_type": "stream",
     "text": [
      "6\n"
     ]
    }
   ],
   "source": [
    "count = 0\n",
    "n = 1260\n",
    "list = [500, 100, 50, 10]\n",
    "for coin in list:\n",
    "    count += n // coin\n",
    "    n %= coin\n",
    "\n",
    "print(count)"
   ]
  },
  {
   "cell_type": "markdown",
   "metadata": {},
   "source": [
    "대부분 문제는 그리디 알고리즘을 이용했을 때 \"최적의 해\"를 찾을 수 없을 가능성이 다분하다. 하지만 거스름돈 문제에서 \"가장 큰 화폐 단위부터\" 돈을 거슬러 주는 것과 같이, 탐욕적으로 문제에 접근했을 때 정확한 답을 찾을 수 있다는 보장이 있을 때는 매우 효과적이다. "
   ]
  },
  {
   "cell_type": "markdown",
   "metadata": {},
   "source": [
    "## 큰 수의 법칙\n",
    "다양한 수로 이루어진 배열이 있을 때 주어진 수들을 M번 더하여 가장 큰 수를 만드는 법칙이다. \n",
    "단, 배열의 특정한 인덱스(번호)에 해당하는 수가 연속해서 k번을 초과하여 더해질 수 없는 것이 특징이다.\n",
    "예를 들어 2,4,5,4,6, M=8, K=3인 경우 큰 수의 법칙에 따라 6+6+6+5+6+6+6+5=46"
   ]
  },
  {
   "cell_type": "code",
   "execution_count": 3,
   "metadata": {},
   "outputs": [
    {
     "name": "stdout",
     "output_type": "stream",
     "text": [
      "5 8 3 \n",
      "2 4 5 4 6 \n",
      "[2, 4, 5, 4, 6]\n",
      "46\n"
     ]
    }
   ],
   "source": [
    "n, m, k = map(int, input().split())\n",
    "\n",
    "\n",
    "data = list(map(int, input().split()))\n",
    "print(data)\n",
    "\n",
    "data.sort()\n",
    "first_big = data[n-1]\n",
    "second_big = data[n-2]\n",
    "\n",
    "result = 0\n",
    "count = 0\n",
    "\n",
    "while True:\n",
    "    for i in range(k):\n",
    "        if count == m:\n",
    "            break\n",
    "        result += first_big\n",
    "        count += 1\n",
    "    if count == m:\n",
    "        break\n",
    "    result += second_big\n",
    "    count += 1\n",
    "\n",
    "print(result)"
   ]
  },
  {
   "cell_type": "markdown",
   "metadata": {},
   "source": [
    "위 코드는 M의 크기가 100억 이상으로 커진다면 시간초과 판정을 받을 수 있다. \n",
    "K가 3이라면 6+6+6+5이고 (큰수를3번)\n",
    "M이 8이라면 (6+6+6+5) + (6+6+6+5)\n",
    "이 문제를 풀려면 가장 먼저 반복되는 수열에 대해서 파악해야 한다. \n",
    "여기서 반복되는 수열의 길이는? (K+1)이다.\n",
    "따라서 \n",
    "1. M을 (K+1)로 나눈 몫이 수열이 반복되는 횟수다.\n",
    "2. 반복되는 횟수 곱하기 K를 하면 가장큰수(K)가 등장하는 횟수이다. \n",
    "3. M을 (K+1)로 나눈 나머지만큼 가장 큰수를 추가로 더한다. "
   ]
  },
  {
   "cell_type": "code",
   "execution_count": 22,
   "metadata": {},
   "outputs": [
    {
     "name": "stdout",
     "output_type": "stream",
     "text": [
      "가장 큰수가 나오는 수 :  6\n"
     ]
    }
   ],
   "source": [
    "# 가장 큰 수가 더해지는 횟수 \n",
    "M = 8 \n",
    "K=3\n",
    "k_count = int(M/(K+1))*K\n",
    "k_count = k_count + M%(K+1)\n",
    "print(\"가장 큰수가 나오는 수 : \" , k_count)"
   ]
  },
  {
   "cell_type": "markdown",
   "metadata": {},
   "source": [
    " ## 1이 될 때까지\n",
    " 어떠한 수 N이 1이 될 때까지 다음의 두 과정 중 하나를 반복적으로 선택하여 수행하려고 한다. 단, 두번째 연산은 N이 K로 나누어 떨어질 때만 선택할 수 있다.\n",
    " 1. N에서 1을 뺀다.\n",
    " 2. N을 K로 나눈다. \n",
    " 예를들어 N이 17, K가 4이면 1번수행 N은 16이 되고, 2번을 2번실행하면 1이 된다 . \n",
    " N과 K가 주어질 때 N이 1이 될때까지 1번과 2번을 수행해야 하는 최소 횟수를 구하는 프로그램을 작성해라."
   ]
  },
  {
   "cell_type": "code",
   "execution_count": 4,
   "metadata": {},
   "outputs": [
    {
     "name": "stdout",
     "output_type": "stream",
     "text": [
      "25 3\n",
      "6\n",
      "6\n"
     ]
    }
   ],
   "source": [
    "#n이 10만번인 경우는 나누고 나머지 빼주고 하는 방식으로 해도 되지만 100억 이상의 큰 수는 아래와 같이 작성하는것이 좋다. \n",
    "#최소 횟수를 구하기 위해선 최대한 많이 나눠야함 \n",
    "#아래 코드는 빼기를 한번에\n",
    "n, k = map(int, input().split())\n",
    "\n",
    "result = 0\n",
    "\n",
    "while True : \n",
    "    target = n % k \n",
    "    n = n - target\n",
    "    result += target\n",
    "\n",
    "    if n < k : \n",
    "        break \n",
    "\n",
    "    n = n // k \n",
    "    result += 1\n",
    "\n",
    "result += n-1 #남은수가 5인경우 1이 되기 위해선 -1을 4번 빼줘야함 (5-1번)\n",
    "print(result)"
   ]
  },
  {
   "cell_type": "markdown",
   "metadata": {},
   "source": [
    "## 모험가 길드\n",
    "공포도가 X인 모험가는 반드시 X명 이상으로 구성해야 모험가 그룹에 참가할 수 있습니다.\n",
    "N명의 모험가에 대한 정보가 주어졌을 때, 여행을 떠날 수 있는 그룹 수의 최댓값을 구하시오\n",
    "몇 명의 모험가는 마을에 그대로 남아 있어도 되기 때문에, 모든 모험가를 특정한 그룹에 넣을 필요는 없습니다. "
   ]
  },
  {
   "cell_type": "code",
   "execution_count": 10,
   "metadata": {},
   "outputs": [
    {
     "name": "stdout",
     "output_type": "stream",
     "text": [
      "5\n",
      "2 3 1 2 2 \n",
      "그룹 완성 1 1\n",
      "그룹 모집중.. 2 1\n",
      "그룹 완성 2 2\n",
      "그룹 모집중.. 2 1\n",
      "그룹 모집중.. 3 2\n",
      "여행을 떠날 수 있는 그룹수의 최댓값: 2\n"
     ]
    }
   ],
   "source": [
    "n = int(input())\n",
    "fear = list(map(int, input().split()))\n",
    "\n",
    "fear.sort()\n",
    "\n",
    "count = 1 \n",
    "result = 0\n",
    "for x in fear:\n",
    "    if count >= x :\n",
    "        print(\"그룹 완성\", x, count)\n",
    "        result += 1\n",
    "        count = 1\n",
    "    else:\n",
    "        print(\"그룹 모집중..\", x, count)\n",
    "        count += 1 \n",
    "                \n",
    "print(\"여행을 떠날 수 있는 그룹수의 최댓값:\", result)\n",
    "\n",
    "\n",
    "#답안---------------------------------------------------------------------\n",
    "count = 0\n",
    "result = 0\n",
    "for x in fear:\n",
    "    count += 1 \n",
    "    if count > x :\n",
    "        result +=1 \n",
    "        count = 0 \n",
    "print(result)"
   ]
  },
  {
   "cell_type": "markdown",
   "metadata": {},
   "source": [
    "* 공포도가 오름차순으로 정렬되어 있다는 점에서, 항상 최소한의 모험가의 수만 포함하여 그룹을 결성하게 된다. 따라서 최대한 많은 그룹이 구성되는 방법이므로 항상 최적의 해를 찾을 수 있다."
   ]
  },
  {
   "cell_type": "markdown",
   "metadata": {},
   "source": [
    "## 곱하기 혹은 더하기\n",
    "0~9로만 이루어진 문자열 S가 주어졌을 때 왼쪽부터 숫자사이에 X혹은 + 연산자를 넣어 결과적으로 만들어질 수 있는 가장 큰 수를 구하는 프로그램을 작성하세요. 모든 연산은 왼쪽에서 부터 순서대로 이루어 진다고 가정합니다."
   ]
  },
  {
   "cell_type": "code",
   "execution_count": 15,
   "metadata": {},
   "outputs": [
    {
     "name": "stdout",
     "output_type": "stream",
     "text": [
      "0 2 9 8 4\n",
      "576\n"
     ]
    }
   ],
   "source": [
    "#현재가 0,1인 경우, 더하는 값이 0과 1인경우 더하고 나머지는 곱하기\n",
    "data = list(map(int, input().split()))\n",
    "\n",
    "result = int(data[0])\n",
    "for i in range(1, len(data)):\n",
    "    i = int(data[i])\n",
    "    if i <= 1 or result <= 1 :\n",
    "        result += i\n",
    "    else:\n",
    "        result *= i\n",
    "\n",
    "print(result)\n",
    "\n",
    "#### TypeError: 'list' object cannot be interpreted as an integer 에러 주의 ! "
   ]
  },
  {
   "cell_type": "markdown",
   "metadata": {},
   "source": [
    "## 문자열 뒤집기\n",
    "0,1로 이루어진 문자열 S가 주어졌을때 문자열 S에 있는 모든 숫자를 전부 같게 만들려고 합니다.\n",
    "할 수 있는 행동은 S에서 연속된 하나 이상의 숫자를 잡고 모두 뒤집는것입니다.\n",
    "S = 0001100 일때 \n",
    "행동의 최소 횟수를 출력하세요."
   ]
  },
  {
   "cell_type": "markdown",
   "metadata": {},
   "source": [
    " -> 그리디 문제는 탐욕법! 전부 같에 만드는 방법이 0으로 만드는 방법과 1로 만드는 방법밖에 없다. "
   ]
  },
  {
   "cell_type": "code",
   "execution_count": null,
   "metadata": {},
   "outputs": [],
   "source": []
  },
  {
   "cell_type": "code",
   "execution_count": null,
   "metadata": {},
   "outputs": [],
   "source": []
  }
 ],
 "metadata": {
  "kernelspec": {
   "display_name": "Python 3",
   "language": "python",
   "name": "python3"
  },
  "language_info": {
   "codemirror_mode": {
    "name": "ipython",
    "version": 3
   },
   "file_extension": ".py",
   "mimetype": "text/x-python",
   "name": "python",
   "nbconvert_exporter": "python",
   "pygments_lexer": "ipython3",
   "version": "3.8.3"
  }
 },
 "nbformat": 4,
 "nbformat_minor": 4
}
