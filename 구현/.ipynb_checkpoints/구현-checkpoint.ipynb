{
 "cells": [
  {
   "cell_type": "markdown",
   "metadata": {},
   "source": [
    "## 구현 \n",
    "어떤 문제가 구현하기 어려운 문제일까? 알고리즘은 간단한데 코드가 지나칠 만큼 길어지는 문제,\n",
    "특정 소수점 자리까지 출력해야 하는 문제, \n",
    "문자열이 입력으로 주어졌을 때 한 문자 단위로 끊어서 리스트에 넣어야 하는(파싱을 해야 하는)문제 등이 까다로운 구현 유형의 문제 등\n",
    "대체로 사소한 조건 설정이 많은 문제일수록 코드로 구현하기가 까다롭다.\n",
    "\n",
    "완전탐색: 모든 경우의 수를 주저 없이 다 계산하는 해결 방법<br>\n",
    "시물레이션: 문제에서 제시한 알고리즘을 한 단계씩 차례대로 직접 수행\n"
   ]
  },
  {
   "cell_type": "markdown",
   "metadata": {},
   "source": [
    "### 상하좌우\n",
    "여행가 A는 NxN 크기의 정사각형 공간 위에 서 있다. 가장 왼쪽 위 좌표는 (1,1)이며 가장 오른쪽 아래 좌표는 (N,N)에 해당한다. <br>\n",
    "여행가 A는 상,하,좌,우 방향으로 이동할 수 있으며 시작 좌표는 항상 (1,1)이다. \n",
    "A가 이동할 계획서는 아래와 같이 작성된다. \n",
    "L: 왼쪽으로 한 칸 이동\n",
    "R: 오른쪽으로 한 칸 이동\n",
    "U: 위로 한 칸 이동\n",
    "D: 아래로 한 칸 이동\n",
    "정사각형 공간을 벗어나는 움직임은 무시된다..\n",
    "계획서가 주어졌을 때 여행가 A가 최종적으로 도착할 지점의 좌표를 출력하는 프로그램을 작성하시오.\n",
    "시간제한:1초/ 메모리제한 128MB"
   ]
  },
  {
   "cell_type": "code",
   "execution_count": 6,
   "metadata": {},
   "outputs": [
    {
     "name": "stdout",
     "output_type": "stream",
     "text": [
      "5\n",
      "R R R U D D \n",
      "3 4\n"
     ]
    }
   ],
   "source": [
    "n = int(input())\n",
    "plans = input().split()\n",
    "x, y = 1, 1\n",
    "\n",
    "types = ['L', 'R', 'U', 'D']\n",
    "dx = [0, 0, -1, 1]\n",
    "dy = [-1, 1, 0, 0]\n",
    "\n",
    "for plan in plans:\n",
    "    for i in range(len(types)):\n",
    "        if plan == types[i]:\n",
    "            nx = x + dx[i]\n",
    "            ny = y + dy[i]\n",
    "    \n",
    "    if nx <1 or ny<1 or nx >n or ny>n:\n",
    "        continue\n",
    "    x, y = nx, ny\n",
    "\n",
    "print(x, y)"
   ]
  },
  {
   "cell_type": "markdown",
   "metadata": {},
   "source": [
    "### 시각\n",
    "정수N이 입력되면 00시 00분 00초부터 N시 59분 59초까지의 모든 시각 중에서 3이 하나라도 포함되는 모든 경우의 수를 구하는 프로그램을 작성하시오. \n",
    "시간제한2초/메모리제한 128MB"
   ]
  },
  {
   "cell_type": "code",
   "execution_count": 8,
   "metadata": {},
   "outputs": [
    {
     "name": "stdout",
     "output_type": "stream",
     "text": [
      "5\n",
      "11475\n"
     ]
    }
   ],
   "source": [
    "hour = int(input())\n",
    "count = 0\n",
    "\n",
    "for h in range(hour+1):\n",
    "    for m in range(60):\n",
    "        for s in range(60): \n",
    "            if '3' in str(h) + str(m) + str(s):\n",
    "                count +=1 \n",
    "print(count)"
   ]
  },
  {
   "cell_type": "markdown",
   "metadata": {},
   "source": [
    "하루는 86,400초 경우의 수가 86400가지 밖에 존재하지 않기 때문에 시간안에 가능하다."
   ]
  },
  {
   "cell_type": "code",
   "execution_count": null,
   "metadata": {},
   "outputs": [],
   "source": []
  }
 ],
 "metadata": {
  "kernelspec": {
   "display_name": "Python 3",
   "language": "python",
   "name": "python3"
  },
  "language_info": {
   "codemirror_mode": {
    "name": "ipython",
    "version": 3
   },
   "file_extension": ".py",
   "mimetype": "text/x-python",
   "name": "python",
   "nbconvert_exporter": "python",
   "pygments_lexer": "ipython3",
   "version": "3.8.3"
  }
 },
 "nbformat": 4,
 "nbformat_minor": 4
}
